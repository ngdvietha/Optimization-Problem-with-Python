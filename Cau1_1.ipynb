{
 "cells": [
  {
   "cell_type": "code",
   "execution_count": 1,
   "metadata": {},
   "outputs": [],
   "source": [
    "#import thư viện về tối ưu hóa tuyến tính\n",
    "from scipy.optimize import linprog"
   ]
  },
  {
   "cell_type": "code",
   "execution_count": 2,
   "metadata": {},
   "outputs": [],
   "source": [
    "#Định nghĩa các biến\n",
    "ObjectiveFunc = \\\n",
    "[704986,704370,\t639830,\t781834,\n",
    "681994,\t744763,\t759305,\t727634,\n",
    "649896,\t669537,\t664394,\t653397,\n",
    "722885,\t753833,\t773519,\t699529,\n",
    "699373,\t652477,\t652477,\t670911\n",
    "]\n",
    "\n",
    "DemandConstraintMatrix = [\n",
    "[1,\t0,\t0,\t0,\n",
    "1,\t0,\t0,\t0,\n",
    "1,\t0,\t0,\t0,\n",
    "1,\t0,\t0,\t0,\n",
    "1,\t0,\t0,\t0],\n",
    "\n",
    "[0,\t1,\t0,\t0,\n",
    "0,\t1,\t0,\t0,\n",
    "0,\t1,\t0,\t0,\n",
    "0,\t1,\t0,\t0,\n",
    "0,\t1,\t0,\t0],\n",
    "\n",
    "[0,\t0,\t1,\t0,\n",
    "0,\t0,\t1,\t0,\n",
    "0,\t0,\t1,\t0,\n",
    "0,\t0,\t1,\t0,\n",
    "0,\t0,\t1,\t0],\n",
    "\n",
    "[0,\t0,\t0,\t1,\n",
    "0,\t0,\t0,\t1,\n",
    "0,\t0,\t0,\t1,\n",
    "0,\t0,\t0,\t1,\n",
    "0,\t0,\t0,\t1]\n",
    "\n",
    "]\n",
    "\n",
    "SupplyConstraintMatrix = [\n",
    "[1,\t1,\t1,\t1,\n",
    "0,\t0,\t0,\t0,\n",
    "0,\t0,\t0,\t0,\n",
    "0,\t0,\t0,\t0,\n",
    "0,\t0,\t0,\t0],\n",
    "\n",
    "[0,\t0,\t0,\t0,\n",
    "1,\t1,\t1,\t1,\n",
    "0,\t0,\t0,\t0,\n",
    "0,\t0,\t0,\t0,\n",
    "0,\t0,\t0,\t0],\n",
    "\n",
    "[0,\t0,\t0,\t0,\n",
    "0,\t0,\t0,\t0,\n",
    "1,\t1,\t1,\t1,\n",
    "0,\t0,\t0,\t0,\n",
    "0,\t0,\t0,\t0],\n",
    "\n",
    "[0,\t0,\t0,\t0,\n",
    "0,\t0,\t0,\t0,\n",
    "0,\t0,\t0,\t0,\n",
    "0,\t0,\t0,\t0,\n",
    "1,\t1,\t1,\t1],\n",
    "\n",
    "[0,\t0,\t0,\t0,\n",
    "0,\t0,\t0,\t0,\n",
    "0,\t0,\t0,\t0,\n",
    "1,\t1,\t1,\t1,\n",
    "0,\t0,\t0,\t0]\n",
    "\n",
    "]\n",
    "\n",
    "UpperBound = [50, 38, 30, 45, 30]\n",
    "\n",
    "EqualBound = [40, 50, 37, 35]\n",
    "\n"
   ]
  },
  {
   "cell_type": "code",
   "execution_count": 3,
   "metadata": {},
   "outputs": [],
   "source": [
    "Solution = linprog(ObjectiveFunc, A_ub = SupplyConstraintMatrix, b_ub = UpperBound,\n",
    "                   A_eq=DemandConstraintMatrix, b_eq=EqualBound,\n",
    "                   bounds = (0, None), method = 'highs')"
   ]
  },
  {
   "cell_type": "code",
   "execution_count": 4,
   "metadata": {},
   "outputs": [],
   "source": [
    "#Define ma trận tên nhà máy và thành phố để in kết quả\n",
    "NCCName = [\n",
    "'Nhà sản xuất 1',\t'Nhà sản xuất 1',\t'Nhà sản xuất 1',\t'Nhà sản xuất 1',\n",
    "'Nhà sản xuất 2',\t'Nhà sản xuất 2',\t'Nhà sản xuất 2',\t'Nhà sản xuất 2',\n",
    "'Nhà sản xuất 3',\t'Nhà sản xuất 3',\t'Nhà sản xuất 3',\t'Nhà sản xuất 3',\n",
    "'Nhà sản xuất 4',\t'Nhà sản xuất 4',\t'Nhà sản xuất 4',\t'Nhà sản xuất 4',\n",
    "'Nhà sản xuất 5',\t'Nhà sản xuất 5',\t'Nhà sản xuất 5',\t'Nhà sản xuất 5'\n",
    "]\n",
    "\n",
    "CityName = [\n",
    "'Hồ Chí Minh',\t'Hà Nội',\t'Hải Phòng',\t'Đà Nẵng',\n",
    "'Hồ Chí Minh',\t'Hà Nội',\t'Hải Phòng',\t'Đà Nẵng',\n",
    "'Hồ Chí Minh',\t'Hà Nội',\t'Hải Phòng',\t'Đà Nẵng',\n",
    "'Hồ Chí Minh',\t'Hà Nội',\t'Hải Phòng',\t'Đà Nẵng',\n",
    "'Hồ Chí Minh',\t'Hà Nội',\t'Hải Phòng',\t'Đà Nẵng'\n",
    "\n",
    "]"
   ]
  },
  {
   "cell_type": "code",
   "execution_count": 5,
   "metadata": {},
   "outputs": [
    {
     "name": "stdout",
     "output_type": "stream",
     "text": [
      "Nhà sản xuất 1 ---> Hà Nội: 5.0 thùng\n",
      "Nhà sản xuất 1 ---> Hải Phòng: 37.0 thùng\n",
      "Nhà sản xuất 2 ---> Hồ Chí Minh: 38.0 thùng\n",
      "Nhà sản xuất 3 ---> Hồ Chí Minh: 2.0 thùng\n",
      "Nhà sản xuất 3 ---> Đà Nẵng: 28.0 thùng\n",
      "Nhà sản xuất 4 ---> Đà Nẵng: 7.0 thùng\n",
      "Nhà sản xuất 5 ---> Hà Nội: 45.0 thùng\n",
      "Tổng chi phí hết 106964408.0\n"
     ]
    }
   ],
   "source": [
    "for stt,i in enumerate(Solution.x):\n",
    "    if i == 0:\n",
    "        pass\n",
    "    else: print('{} ---> {}: {} thùng'.format(NCCName[stt], CityName[stt], i))\n",
    "    \n",
    "print('Tổng chi phí hết {}'.format(Solution.fun))\n"
   ]
  }
 ],
 "metadata": {
  "kernelspec": {
   "display_name": "base",
   "language": "python",
   "name": "python3"
  },
  "language_info": {
   "codemirror_mode": {
    "name": "ipython",
    "version": 3
   },
   "file_extension": ".py",
   "mimetype": "text/x-python",
   "name": "python",
   "nbconvert_exporter": "python",
   "pygments_lexer": "ipython3",
   "version": "3.9.7"
  },
  "orig_nbformat": 4
 },
 "nbformat": 4,
 "nbformat_minor": 2
}
